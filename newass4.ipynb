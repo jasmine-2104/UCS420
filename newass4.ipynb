{
  "nbformat": 4,
  "nbformat_minor": 0,
  "metadata": {
    "colab": {
      "provenance": []
    },
    "kernelspec": {
      "name": "python3",
      "display_name": "Python 3"
    },
    "language_info": {
      "name": "python"
    }
  },
  "cells": [
    {
      "cell_type": "code",
      "execution_count": 2,
      "metadata": {
        "colab": {
          "base_uri": "https://localhost:8080/"
        },
        "id": "3yq7TK6aknny",
        "outputId": "29af16b3-3212-417c-b570-9f44f8e9a7cc"
      },
      "outputs": [
        {
          "output_type": "stream",
          "name": "stdout",
          "text": [
            "Original array:  [1 2 3 4 5]\n",
            "Addition of 2 in all the elements:  [3 4 5 6 7]\n",
            "Multiplication of 3 in all the elements:  [ 3  6  9 12 15]\n",
            "Division by 2 in all the elements:  [0.5 1.  1.5 2.  2.5]\n"
          ]
        }
      ],
      "source": [
        "import numpy as np\n",
        "a=np.array([1,2,3,4,5])\n",
        "print(\"Original array: \",a)\n",
        "print(\"Addition of 2 in all the elements: \",a+2)\n",
        "print(\"Multiplication of 3 in all the elements: \",a*3)\n",
        "print(\"Division by 2 in all the elements: \",a/2)"
      ]
    },
    {
      "cell_type": "code",
      "source": [
        "a=np.array([1,2,3,6,4,5])\n",
        "print(\"Original array: \",a)\n",
        "print(\"Reversed array: \",np.flip(a))\n",
        "x=np.array([1,2,3,4,5,1,2,1,1,1])\n",
        "print(\"Array x: \",x)\n",
        "print(\"Mode of x: \",np.bincount(x).argmax())\n",
        "print(\"Maximum frequency of mode of array: \",np.bincount(x).max())\n",
        "y=np.array([1,1,1,2,3,4,2,4,3,3,])\n",
        "print(\"Array y: \",y)\n",
        "b=np.bincount(y)\n",
        "maximum=max(b)\n",
        "print(\"Mode of y: \",end=\"\")\n",
        "for i in range(len(b)):\n",
        "    if b[i]==maximum:\n",
        "        print(i,end=\" \")\n",
        "print()\n",
        "print(\"Maximum frequency of mode of array: \",np.bincount(y).max())"
      ],
      "metadata": {
        "colab": {
          "base_uri": "https://localhost:8080/"
        },
        "id": "GoaTf0_ckxbn",
        "outputId": "1ef9232a-e8f4-40c2-b1ba-2ca10f7795ad"
      },
      "execution_count": 4,
      "outputs": [
        {
          "output_type": "stream",
          "name": "stdout",
          "text": [
            "Original array:  [1 2 3 6 4 5]\n",
            "Reversed array:  [5 4 6 3 2 1]\n",
            "Array x:  [1 2 3 4 5 1 2 1 1 1]\n",
            "Mode of x:  1\n",
            "Maximum frequency of mode of array:  5\n",
            "Array y:  [1 1 1 2 3 4 2 4 3 3]\n",
            "Mode of y: 1 3 \n",
            "Maximum frequency of mode of array:  3\n"
          ]
        }
      ]
    },
    {
      "cell_type": "code",
      "source": [
        "arr=np.array([[10,20,30],[40,50,60],[70,80,90]])\n",
        "print(\"Array: \",arr)\n",
        "print(\"Element at first row second column: \",arr[0,1])\n",
        "print(\"Element at third row first column: \",arr[2,0])"
      ],
      "metadata": {
        "colab": {
          "base_uri": "https://localhost:8080/"
        },
        "id": "uZ-6eXw6k066",
        "outputId": "e2c1bf6c-b73f-4446-e94b-6f6821424032"
      },
      "execution_count": 6,
      "outputs": [
        {
          "output_type": "stream",
          "name": "stdout",
          "text": [
            "Array:  [[10 20 30]\n",
            " [40 50 60]\n",
            " [70 80 90]]\n",
            "Element at first row second column:  20\n",
            "Element at third row first column:  70\n"
          ]
        }
      ]
    },
    {
      "cell_type": "code",
      "source": [
        "Jasmine=np.linspace(10,100,25)\n",
        "print(\"Original Array: \",Jasmine)\n",
        "print(\"Dimension of array: \",Jasmine.ndim)\n",
        "print(\"Shape of array: \",Jasmine.shape)\n",
        "print(\"Total no. of elements of Array\",Jasmine.size)\n",
        "print(\"Datatype of array: \",Jasmine.dtype)\n",
        "print(\"Size of array(Bytes): \",Jasmine.itemsize*Jasmine.size)\n",
        "print(\"Transpose of array using reshape: \",Jasmine.reshape(Jasmine.size,1))\n",
        "print(\"Transpose using attribute T: \",Jasmine.T)"
      ],
      "metadata": {
        "colab": {
          "base_uri": "https://localhost:8080/"
        },
        "id": "tY7Rvpkjk3vY",
        "outputId": "b2a17d1b-3d7c-4fa2-d0d1-4c6e59698c25"
      },
      "execution_count": 8,
      "outputs": [
        {
          "output_type": "stream",
          "name": "stdout",
          "text": [
            "Original Array:  [ 10.    13.75  17.5   21.25  25.    28.75  32.5   36.25  40.    43.75\n",
            "  47.5   51.25  55.    58.75  62.5   66.25  70.    73.75  77.5   81.25\n",
            "  85.    88.75  92.5   96.25 100.  ]\n",
            "Dimension of array:  1\n",
            "Shape of array:  (25,)\n",
            "Total no. of elements of Array 25\n",
            "Datatype of array:  float64\n",
            "Size of array(Bytes):  200\n",
            "Transpose of array using reshape:  [[ 10.  ]\n",
            " [ 13.75]\n",
            " [ 17.5 ]\n",
            " [ 21.25]\n",
            " [ 25.  ]\n",
            " [ 28.75]\n",
            " [ 32.5 ]\n",
            " [ 36.25]\n",
            " [ 40.  ]\n",
            " [ 43.75]\n",
            " [ 47.5 ]\n",
            " [ 51.25]\n",
            " [ 55.  ]\n",
            " [ 58.75]\n",
            " [ 62.5 ]\n",
            " [ 66.25]\n",
            " [ 70.  ]\n",
            " [ 73.75]\n",
            " [ 77.5 ]\n",
            " [ 81.25]\n",
            " [ 85.  ]\n",
            " [ 88.75]\n",
            " [ 92.5 ]\n",
            " [ 96.25]\n",
            " [100.  ]]\n",
            "Transpose using attribute T:  [ 10.    13.75  17.5   21.25  25.    28.75  32.5   36.25  40.    43.75\n",
            "  47.5   51.25  55.    58.75  62.5   66.25  70.    73.75  77.5   81.25\n",
            "  85.    88.75  92.5   96.25 100.  ]\n"
          ]
        }
      ]
    },
    {
      "cell_type": "code",
      "source": [
        "ucs420_Jasmine=np.array([10,20,30,40,50,60,70,80,90,15,20,35]).reshape(3,4)\n",
        "print(\"Original array: \",ucs420_Jasmine)\n",
        "print(\"Mean of array: \",np.mean(ucs420_Jasmine))\n",
        "print(\"Median of array: \",np.median(ucs420_Jasmine))\n",
        "print(\"Max of array: \",np.max(ucs420_Jasmine))\n",
        "print(\"Min of array: \",np.min(ucs420_Jasmine))\n",
        "print(\"Unique of elements of array: \",np.unique(ucs420_Jasmine))\n",
        "reshaped_ucs420_Jasmine=ucs420_Jasmine.reshape(4,3)\n",
        "print(\"Reshaped array(4,3): \",reshaped_ucs420_Jasmine)\n",
        "resized_ucs420_Jasmine=np.resize(ucs420_Jasmine,(2,3))\n",
        "print(\"Resized array(2,3): \",resized_ucs420_Jasmine)"
      ],
      "metadata": {
        "colab": {
          "base_uri": "https://localhost:8080/"
        },
        "id": "ywZBCohBk7sY",
        "outputId": "d7aadb2a-48ce-48d9-c334-df3c790d28f4"
      },
      "execution_count": 9,
      "outputs": [
        {
          "output_type": "stream",
          "name": "stdout",
          "text": [
            "Original array:  [[10 20 30 40]\n",
            " [50 60 70 80]\n",
            " [90 15 20 35]]\n",
            "Mean of array:  43.333333333333336\n",
            "Median of array:  37.5\n",
            "Max of array:  90\n",
            "Min of array:  10\n",
            "Unique of elements of array:  [10 15 20 30 35 40 50 60 70 80 90]\n",
            "Reshaped array(4,3):  [[10 20 30]\n",
            " [40 50 60]\n",
            " [70 80 90]\n",
            " [15 20 35]]\n",
            "Resized array(2,3):  [[10 20 30]\n",
            " [40 50 60]]\n"
          ]
        }
      ]
    }
  ]
}