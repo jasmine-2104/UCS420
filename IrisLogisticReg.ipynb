{
 "cells": [
  {
   "cell_type": "markdown",
   "id": "cd153868-f6fe-41c8-9a36-0388594ab016",
   "metadata": {},
   "source": [
    "---------------------------------------------------------------------------------------------------------------------------------------------\n",
    "Implementing logistic regression on Iris Dataset:\n",
    "---------------------------------------------------------------------------------------------------------------------------------------------"
   ]
  },
  {
   "cell_type": "code",
   "execution_count": 1,
   "id": "d2d854bc-3d4b-46dd-9b10-018b2b69fd40",
   "metadata": {},
   "outputs": [],
   "source": [
    "import numpy as np\n",
    "import pandas as pd\n",
    "import matplotlib.pyplot as plt\n",
    "from sklearn import datasets\n",
    "from sklearn.model_selection import train_test_split\n",
    "from sklearn.preprocessing import StandardScaler\n",
    "from sklearn.linear_model import LogisticRegression\n",
    "from sklearn.metrics import accuracy_score, classification_report, confusion_matrix"
   ]
  },
  {
   "cell_type": "markdown",
   "id": "2e638e6d-4cf2-4e7b-a8fd-43d1844e352b",
   "metadata": {},
   "source": [
    "---------------------------------------------------------------------------------------------------------------------------------------------\n",
    "Loading the dataset and checking if it is loaded successfully\n",
    "\n",
    "---------------------------------------------------------------------------------------------------------------------------------------------"
   ]
  },
  {
   "cell_type": "code",
   "execution_count": 2,
   "id": "3ad17747-3c13-4f3b-8bde-c08aaa6129fe",
   "metadata": {},
   "outputs": [
    {
     "name": "stdout",
     "output_type": "stream",
     "text": [
      "   sepal length (cm)  sepal width (cm)  petal length (cm)  petal width (cm)  \\\n",
      "0                5.1               3.5                1.4               0.2   \n",
      "1                4.9               3.0                1.4               0.2   \n",
      "2                4.7               3.2                1.3               0.2   \n",
      "3                4.6               3.1                1.5               0.2   \n",
      "4                5.0               3.6                1.4               0.2   \n",
      "\n",
      "   target  \n",
      "0       0  \n",
      "1       0  \n",
      "2       0  \n",
      "3       0  \n",
      "4       0  \n"
     ]
    }
   ],
   "source": [
    "iris = datasets.load_iris()\n",
    "df = pd.DataFrame(data=iris.data, columns=iris.feature_names)\n",
    "df['target'] = iris.target\n",
    "print(df.head())"
   ]
  },
  {
   "cell_type": "markdown",
   "id": "e5a7d89d-bd5f-4e2d-9fc3-54b773e81643",
   "metadata": {},
   "source": [
    "---------------------------------------------------------------------------------------------------------------------------------------------\n",
    "Storing features and targets in two variables X and Y and further standardizing the data\n",
    "\n",
    "---------------------------------------------------------------------------------------------------------------------------------------------"
   ]
  },
  {
   "cell_type": "code",
   "execution_count": 3,
   "id": "88df1624-db27-472a-a0b9-b59798a627fd",
   "metadata": {},
   "outputs": [],
   "source": [
    "X = iris.data\n",
    "y = iris.target\n",
    "\n",
    "X_train, X_test, y_train, y_test = train_test_split(X, y, test_size=0.2, random_state=42, stratify=y)\n",
    "scaler = StandardScaler()\n",
    "X_train = scaler.fit_transform(X_train)\n",
    "X_test = scaler.transform(X_test)"
   ]
  },
  {
   "cell_type": "markdown",
   "id": "b97dd4e9-915f-442b-b9a1-5ec5b9768e4e",
   "metadata": {},
   "source": [
    "---------------------------------------------------------------------------------------------------------------------------------------------\n",
    "Initializing and training the model\n",
    "\n",
    "---------------------------------------------------------------------------------------------------------------------------------------------"
   ]
  },
  {
   "cell_type": "code",
   "execution_count": 6,
   "id": "147f93a8-c236-4fd7-804c-f43802aab304",
   "metadata": {},
   "outputs": [],
   "source": [
    "model = LogisticRegression(multi_class='ovr', solver='liblinear')\n",
    "model.fit(X_train, y_train)\n",
    "\n",
    "y_pred = model.predict(X_test)\n",
    "\n",
    "# The above functions were throwing some warnings that these functions would be removed in the newer versions, therefore ignoring \n",
    "# warnings using the warnings.filterwarnings() method\n",
    "# import warnings\n",
    "# warnings.filterwarnings(\"ignore\")"
   ]
  },
  {
   "cell_type": "markdown",
   "id": "f5000838-7471-41aa-9295-5a2cb2490834",
   "metadata": {},
   "source": [
    "---------------------------------------------------------------------------------------------------------------------------------------------\n",
    "Evaluating the model\n",
    "\n",
    "---------------------------------------------------------------------------------------------------------------------------------------------"
   ]
  },
  {
   "cell_type": "code",
   "execution_count": 5,
   "id": "d31d4d6e-3d50-44e0-89f3-8cf86b0a0f7c",
   "metadata": {},
   "outputs": [
    {
     "name": "stdout",
     "output_type": "stream",
     "text": [
      "Accuracy: 0.83\n",
      "\n",
      "Confusion Matrix:\n",
      "[[10  0  0]\n",
      " [ 0  6  4]\n",
      " [ 0  1  9]]\n",
      "\n",
      "Classification Report:\n",
      "              precision    recall  f1-score   support\n",
      "\n",
      "           0       1.00      1.00      1.00        10\n",
      "           1       0.86      0.60      0.71        10\n",
      "           2       0.69      0.90      0.78        10\n",
      "\n",
      "    accuracy                           0.83        30\n",
      "   macro avg       0.85      0.83      0.83        30\n",
      "weighted avg       0.85      0.83      0.83        30\n",
      "\n"
     ]
    }
   ],
   "source": [
    "accuracy = accuracy_score(y_test, y_pred)\n",
    "print(f'Accuracy: {accuracy:.2f}')\n",
    "\n",
    "print(\"\\nConfusion Matrix:\")\n",
    "print(confusion_matrix(y_test, y_pred))\n",
    "\n",
    "print(\"\\nClassification Report:\")\n",
    "print(classification_report(y_test, y_pred))"
   ]
  }
 ],
 "metadata": {
  "kernelspec": {
   "display_name": "Python 3 (ipykernel)",
   "language": "python",
   "name": "python3"
  },
  "language_info": {
   "codemirror_mode": {
    "name": "ipython",
    "version": 3
   },
   "file_extension": ".py",
   "mimetype": "text/x-python",
   "name": "python",
   "nbconvert_exporter": "python",
   "pygments_lexer": "ipython3",
   "version": "3.13.0"
  }
 },
 "nbformat": 4,
 "nbformat_minor": 5
}
