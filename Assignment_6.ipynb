{
 "cells": [
  {
   "cell_type": "code",
   "execution_count": 3,
   "id": "483bca6e-6e36-4d3e-a0e6-d33cc3be885a",
   "metadata": {},
   "outputs": [
    {
     "name": "stdin",
     "output_type": "stream",
     "text": [
      "Enter N:  5\n"
     ]
    },
    {
     "name": "stdout",
     "output_type": "stream",
     "text": [
      "The sum of all odd numbers from 1 to 5 is: 9\n"
     ]
    }
   ],
   "source": [
    "def sum_of_odds(n):\n",
    "    total = 0\n",
    "    for i in range(1, n + 1, 2):  \n",
    "        total += i\n",
    "    return total\n",
    "n = int(input(\"Enter N: \"))\n",
    "result = sum_of_odds(n)\n",
    "print(\"The sum of all odd numbers from 1 to\", n, \"is:\", result)\n"
   ]
  },
  {
   "cell_type": "code",
   "execution_count": 5,
   "id": "77b40cae-3bd8-4f1f-a1f6-84d36cdbeb69",
   "metadata": {},
   "outputs": [
    {
     "name": "stdin",
     "output_type": "stream",
     "text": [
      "Enter N:  5\n"
     ]
    },
    {
     "name": "stdout",
     "output_type": "stream",
     "text": [
      "The sum of all prime numbers from 1 to 5 is: 10\n"
     ]
    }
   ],
   "source": [
    "def is_prime(num):\n",
    "    if num < 2:  \n",
    "        return False\n",
    "    for i in range(2, int(num**0.5) + 1):  \n",
    "        if num % i == 0:\n",
    "            return False\n",
    "    return True\n",
    "\n",
    "\n",
    "def sum_of_primes(n):\n",
    "    total = 0\n",
    "    for i in range(1, n + 1):\n",
    "        if is_prime(i):  \n",
    "            total += i  \n",
    "    return total\n",
    "n = int(input(\"Enter N: \"))\n",
    "result = sum_of_primes(n)\n",
    "print(\"The sum of all prime numbers from 1 to\", n, \"is:\", result)"
   ]
  },
  {
   "cell_type": "code",
   "execution_count": null,
   "id": "a727fe6d-c4c2-433f-896c-49438fd00b12",
   "metadata": {},
   "outputs": [],
   "source": []
  }
 ],
 "metadata": {
  "kernelspec": {
   "display_name": "Python 3 (ipykernel)",
   "language": "python",
   "name": "python3"
  },
  "language_info": {
   "codemirror_mode": {
    "name": "ipython",
    "version": 3
   },
   "file_extension": ".py",
   "mimetype": "text/x-python",
   "name": "python",
   "nbconvert_exporter": "python",
   "pygments_lexer": "ipython3",
   "version": "3.12.4"
  }
 },
 "nbformat": 4,
 "nbformat_minor": 5
}
