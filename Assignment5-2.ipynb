{
 "cells": [
  {
   "cell_type": "code",
   "execution_count": 2,
   "id": "d2f632ea-06d4-4677-83ab-60c3854e0835",
   "metadata": {},
   "outputs": [
    {
     "name": "stdin",
     "output_type": "stream",
     "text": [
      "Enter first number:  2\n",
      "Enter second number:  4\n",
      "Enter third number:  1\n"
     ]
    },
    {
     "name": "stdout",
     "output_type": "stream",
     "text": [
      "4\n"
     ]
    }
   ],
   "source": [
    "a = int(input('Enter first number: '))\n",
    "b = int(input('Enter second number: '))\n",
    "c = int(input('Enter third number: '))\n",
    "print(max(a,b,c))"
   ]
  },
  {
   "cell_type": "code",
   "execution_count": 11,
   "id": "5fe33eaa-545d-4c21-92ae-d98e851c86ce",
   "metadata": {},
   "outputs": [
    {
     "name": "stdin",
     "output_type": "stream",
     "text": [
      "Enter any number:  90\n"
     ]
    },
    {
     "data": {
      "text/plain": [
       "978"
      ]
     },
     "execution_count": 11,
     "metadata": {},
     "output_type": "execute_result"
    }
   ],
   "source": [
    "n = int(input('Enter any number: '))\n",
    "sum = 0\n",
    "for i in range(1,n+1):\n",
    "    if(i % 7 == 0):\n",
    "        sum = sum + i\n",
    "    elif(i % 9 == 0):\n",
    "        sum = sum + i\n",
    "    elif(i%7 == 0 and i%9 == 0):\n",
    "        sum = sum + i\n",
    "sum"
   ]
  },
  {
   "cell_type": "code",
   "execution_count": 12,
   "id": "fb86c734-e2e5-43ab-82e1-82155b67918a",
   "metadata": {},
   "outputs": [
    {
     "name": "stdin",
     "output_type": "stream",
     "text": [
      "Enter any number:  8\n"
     ]
    },
    {
     "name": "stdout",
     "output_type": "stream",
     "text": [
      "2\n",
      "3\n",
      "5\n",
      "7\n"
     ]
    }
   ],
   "source": [
    "n = int(input('Enter any number: '))\n",
    "def IsPrime(n):\n",
    "\tfor i in range(2, n//2 + 1):\n",
    "\t\tif n%i==0:\n",
    "\t\t\treturn 0\n",
    "\treturn 1\n",
    "for i in range(2,n+1):\n",
    "    if(IsPrime(i)):\n",
    "        print(i)\n",
    "        \n",
    "        "
   ]
  },
  {
   "cell_type": "code",
   "execution_count": null,
   "id": "10200c26-1350-473d-aa70-2ea10a3e2742",
   "metadata": {},
   "outputs": [],
   "source": []
  }
 ],
 "metadata": {
  "kernelspec": {
   "display_name": "Python 3 (ipykernel)",
   "language": "python",
   "name": "python3"
  },
  "language_info": {
   "codemirror_mode": {
    "name": "ipython",
    "version": 3
   },
   "file_extension": ".py",
   "mimetype": "text/x-python",
   "name": "python",
   "nbconvert_exporter": "python",
   "pygments_lexer": "ipython3",
   "version": "3.11.7"
  }
 },
 "nbformat": 4,
 "nbformat_minor": 5
}
