{
 "cells": [
  {
   "cell_type": "code",
   "execution_count": 13,
   "id": "d74c2976-a671-4ac8-be09-70a15dbabec6",
   "metadata": {},
   "outputs": [],
   "source": [
    "import numpy as n"
   ]
  },
  {
   "cell_type": "markdown",
   "id": "23c38c75-5be5-478d-a578-61ad756656fc",
   "metadata": {},
   "source": [
    "Q.1 Write a program to create a NumPy 1D-array with 5 elements and perform basic\n",
    "operations like:\n",
    "a) Addition of 2 in all the element"
   ]
  },
  {
   "cell_type": "code",
   "execution_count": 11,
   "id": "525fd7d4-f01f-4e9f-9efc-3641b5e6b05a",
   "metadata": {},
   "outputs": [
    {
     "data": {
      "text/plain": [
       "array([3, 4, 5, 6, 7])"
      ]
     },
     "execution_count": 11,
     "metadata": {},
     "output_type": "execute_result"
    }
   ],
   "source": [
    "a = n.array([1,2,3,4,5])\n",
    "a += 2\n",
    "a"
   ]
  },
  {
   "cell_type": "markdown",
   "id": "6c9327b3-1360-4365-bd74-5b9f159b6998",
   "metadata": {},
   "source": [
    "b) Multiply 3 with all the elements"
   ]
  },
  {
   "cell_type": "code",
   "execution_count": 12,
   "id": "c8b7d807-5e4a-4a8d-805d-15188ae3b952",
   "metadata": {},
   "outputs": [
    {
     "data": {
      "text/plain": [
       "array([ 9, 12, 15, 18, 21])"
      ]
     },
     "execution_count": 12,
     "metadata": {},
     "output_type": "execute_result"
    }
   ],
   "source": [
    "a *= 3\n",
    "a"
   ]
  },
  {
   "cell_type": "markdown",
   "id": "83c447a7-af85-4609-b8f4-796070b67b94",
   "metadata": {},
   "source": [
    "c) Divide every element by 2"
   ]
  },
  {
   "cell_type": "code",
   "execution_count": 5,
   "id": "d474f595-8602-4d81-a744-5cb72a1d65e5",
   "metadata": {},
   "outputs": [
    {
     "data": {
      "text/plain": [
       "array([ 4,  6,  7,  9, 10])"
      ]
     },
     "execution_count": 5,
     "metadata": {},
     "output_type": "execute_result"
    }
   ],
   "source": [
    "a //= 2\n",
    "a"
   ]
  },
  {
   "cell_type": "markdown",
   "id": "7d96a743-1eb4-4b61-a3fa-59852ab670e3",
   "metadata": {},
   "source": [
    "Q.2 Questions on Basic NumPy Array:\n",
    "a) Reverse the NumPy array: arr = np.array([1, 2, 3, 6, 4, 5])"
   ]
  },
  {
   "cell_type": "code",
   "execution_count": 6,
   "id": "826602e0-c710-4738-8e7a-5e1fa8b4871b",
   "metadata": {},
   "outputs": [
    {
     "data": {
      "text/plain": [
       "array([5, 4, 6, 3, 2, 1])"
      ]
     },
     "execution_count": 6,
     "metadata": {},
     "output_type": "execute_result"
    }
   ],
   "source": [
    "arr = n.array([1,2,3,6,4,5])\n",
    "arr[::-1]"
   ]
  },
  {
   "cell_type": "markdown",
   "id": "8b92fe05-b2f2-4f12-aa04-26e03d60e80b",
   "metadata": {},
   "source": [
    "b) Find the most frequent value and their indice(s) in the following arrays:\n",
    "i. x = np.array([1,2,3,4,5,1,2,1,1,1])\n",
    "ii. y = np.array([1, 1, 1, 2, 3, 4, 2, 4, 3, 3, ])"
   ]
  },
  {
   "cell_type": "code",
   "execution_count": 7,
   "id": "a0f792bd-7356-4780-b631-5fb23016c308",
   "metadata": {},
   "outputs": [
    {
     "name": "stdout",
     "output_type": "stream",
     "text": [
      "Mode of x:  1\n"
     ]
    }
   ],
   "source": [
    "x = n.array([1,2,3,4,5,1,2,1,1,1])\n",
    "print(\"Mode of x: \",n.bincount(x).argmax())"
   ]
  },
  {
   "cell_type": "code",
   "execution_count": 8,
   "id": "94065062-8bb9-4d18-a519-d7899f64aeaf",
   "metadata": {},
   "outputs": [
    {
     "name": "stdout",
     "output_type": "stream",
     "text": [
      "Maximum frequency of mode of array:  5\n"
     ]
    }
   ],
   "source": [
    "print(\"Maximum frequency of mode of array: \",n.bincount(x).max())"
   ]
  },
  {
   "cell_type": "code",
   "execution_count": 9,
   "id": "80104e4f-3183-4e8f-954c-b41fec8da81e",
   "metadata": {},
   "outputs": [
    {
     "name": "stdout",
     "output_type": "stream",
     "text": [
      "Mode of y: 1 3 \n",
      "Maximum frequency of mode of array:  3\n"
     ]
    }
   ],
   "source": [
    "y=n.array([1,1,1,2,3,4,2,4,3,3,])\n",
    "b=n.bincount(y)\n",
    "maximum=max(b)\n",
    "print(\"Mode of y: \",end=\"\")\n",
    "for i in range(len(b)):\n",
    "    if b[i]==maximum:\n",
    "        print(i,end=\" \")\n",
    "print()\n",
    "print(\"Maximum frequency of mode of array: \",n.bincount(y).max())"
   ]
  },
  {
   "cell_type": "markdown",
   "id": "3b0a9af2-4966-46c8-b95e-f018cf204a54",
   "metadata": {},
   "source": [
    "Q.3 For the given 2-D array arr=np.array([10, 20, 30], [40, 50, 60], [70, 80, 90]), access\n",
    "elements using row and column indices as follows:\n",
    "a) Access 1st row, 2nd column\n",
    "b) Access 3rd row, 1st column"
   ]
  },
  {
   "cell_type": "code",
   "execution_count": 10,
   "id": "7f0d2131-2439-4623-ab92-2a8c4412284a",
   "metadata": {},
   "outputs": [
    {
     "name": "stdout",
     "output_type": "stream",
     "text": [
      "Element at first row second column:  20\n",
      "Element at third row first column:  70\n"
     ]
    }
   ],
   "source": [
    "arr=n.array([[10,20,30],[40,50,60],[70,80,90]])\n",
    "print(\"Element at first row second column: \",arr[0,1])\n",
    "print(\"Element at third row first column: \",arr[2,0])"
   ]
  },
  {
   "cell_type": "markdown",
   "id": "76dd1088-175b-4c0f-8f44-85d5483eb831",
   "metadata": {},
   "source": [
    "Q.4 Write program to create an 1-D NumPy array named <<Your Name>> with evenly\n",
    "spaced 25 numbers from 10 to 100 using linspace(). Print the dimensions of the array,\n",
    "shape, total elements, the data type of each element and total number of bytes consumed\n",
    "by the array. Find the transpose of this array using reshape() attribute. Can we do the same\n",
    "with T attribute?"
   ]
  },
  {
   "cell_type": "code",
   "execution_count": 14,
   "id": "f05125e0-7d2d-4ebf-9932-a78df5a4e357",
   "metadata": {},
   "outputs": [
    {
     "name": "stdout",
     "output_type": "stream",
     "text": [
      "Original Array:  [ 10.    13.75  17.5   21.25  25.    28.75  32.5   36.25  40.    43.75\n",
      "  47.5   51.25  55.    58.75  62.5   66.25  70.    73.75  77.5   81.25\n",
      "  85.    88.75  92.5   96.25 100.  ]\n",
      "Dimension of array:  1\n",
      "Shape of array:  (25,)\n",
      "Total no. of elements of Array 25\n",
      "Datatype of array:  float64\n",
      "Size of array(Bytes):  200\n",
      "Transpose of array using reshape:  [[ 10.  ]\n",
      " [ 13.75]\n",
      " [ 17.5 ]\n",
      " [ 21.25]\n",
      " [ 25.  ]\n",
      " [ 28.75]\n",
      " [ 32.5 ]\n",
      " [ 36.25]\n",
      " [ 40.  ]\n",
      " [ 43.75]\n",
      " [ 47.5 ]\n",
      " [ 51.25]\n",
      " [ 55.  ]\n",
      " [ 58.75]\n",
      " [ 62.5 ]\n",
      " [ 66.25]\n",
      " [ 70.  ]\n",
      " [ 73.75]\n",
      " [ 77.5 ]\n",
      " [ 81.25]\n",
      " [ 85.  ]\n",
      " [ 88.75]\n",
      " [ 92.5 ]\n",
      " [ 96.25]\n",
      " [100.  ]]\n",
      "Transpose using attribute T:  [ 10.    13.75  17.5   21.25  25.    28.75  32.5   36.25  40.    43.75\n",
      "  47.5   51.25  55.    58.75  62.5   66.25  70.    73.75  77.5   81.25\n",
      "  85.    88.75  92.5   96.25 100.  ]\n"
     ]
    }
   ],
   "source": [
    "Jasmine = n.linspace(10,100,25)\n",
    "print(\"Original Array: \",Jasmine)\n",
    "print(\"Dimension of array: \",Jasmine.ndim)\n",
    "print(\"Shape of array: \",Jasmine.shape)\n",
    "print(\"Total no. of elements of Array\",Jasmine.size)\n",
    "print(\"Datatype of array: \",Jasmine.dtype)\n",
    "print(\"Size of array(Bytes): \",Jasmine.itemsize*Jasmine.size)\n",
    "print(\"Transpose of array using reshape: \",Jasmine.reshape(Jasmine.size,1))\n",
    "print(\"Transpose using attribute T: \",Jasmine.T)"
   ]
  },
  {
   "cell_type": "markdown",
   "id": "a74fb1f3-2b31-4a4d-924f-24043e475e24",
   "metadata": {},
   "source": [
    "Q5. Create a 2-D Array of three rows and four columns, named ucs420_<your_name>>\n",
    "with following values – 10, 20, 30, 40, 50, 60, 70, 80, 90, 15, 20, 35. Compute the mean,\n",
    "median, max, min, unique elements. Reshape the array to four rows and three columns and\n",
    "name it as reshaped_ ucs420_<your_name>>. Resize the array to two rows and three\n",
    "columns and name it as resized_ ucs420_<your_name>>."
   ]
  },
  {
   "cell_type": "code",
   "execution_count": 23,
   "id": "c1eab4f7-d834-44b6-8d3e-5a99688a80da",
   "metadata": {},
   "outputs": [
    {
     "ename": "SyntaxError",
     "evalue": "invalid syntax. Perhaps you forgot a comma? (3356309460.py, line 9)",
     "output_type": "error",
     "traceback": [
      "\u001b[0;36m  Cell \u001b[0;32mIn[23], line 9\u001b[0;36m\u001b[0m\n\u001b[0;31m    print(\"Reshaped array(4,3):\", Reshaped_UCS420_ Jasmine)\u001b[0m\n\u001b[0m                                  ^\u001b[0m\n\u001b[0;31mSyntaxError\u001b[0m\u001b[0;31m:\u001b[0m invalid syntax. Perhaps you forgot a comma?\n"
     ]
    }
   ],
   "source": [
    "UCS420_Jasmine = n.array([10,20,30,40,50,60,70,80,90,15,20,35]).reshape(3,4)\n",
    "print(\"Original array: \",UCS420_Jasmine)\n",
    "print(\"Mean of array: \",n.mean(UCS420_Jasmine))\n",
    "print(\"Median of array: \",n.median(UCS420_Jasmine))\n",
    "print(\"Max of array: \",n.max(UCS420_Jasmine))\n",
    "print(\"Min of array: \",n.min(UCS420_Jasmine))\n",
    "print(\"Unique of elements of array: \",n.unique(UCS420_Jasmine))\n",
    "Reshaped_UCS420_Jasmine=UCS420_Jasmine.reshape(4,3)\n",
    "print(\"Reshaped array(4,3):\", Reshaped_UCS420_ Jasmine)\n",
    "Resized_UCS420_Jasmine=n.resize(UCS420_Jasmine,(2,3))\n",
    "print(\"Resized array(2,3): \",Resized_UCS420_Jasmine)"
   ]
  },
  {
   "cell_type": "code",
   "execution_count": null,
   "id": "6838e609-bf4e-449c-abcd-ccfb9192d66e",
   "metadata": {},
   "outputs": [],
   "source": []
  },
  {
   "cell_type": "code",
   "execution_count": null,
   "id": "22220801-4dcf-44d2-a109-75cd84d9c72a",
   "metadata": {},
   "outputs": [],
   "source": []
  }
 ],
 "metadata": {
  "kernelspec": {
   "display_name": "Python 3 (ipykernel)",
   "language": "python",
   "name": "python3"
  },
  "language_info": {
   "codemirror_mode": {
    "name": "ipython",
    "version": 3
   },
   "file_extension": ".py",
   "mimetype": "text/x-python",
   "name": "python",
   "nbconvert_exporter": "python",
   "pygments_lexer": "ipython3",
   "version": "3.13.1"
  }
 },
 "nbformat": 4,
 "nbformat_minor": 5
}
