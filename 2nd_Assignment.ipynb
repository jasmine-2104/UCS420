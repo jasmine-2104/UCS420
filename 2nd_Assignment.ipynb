{
 "cells": [
  {
   "cell_type": "markdown",
   "id": "6802bc5c-6f63-4751-9313-e56f2d117845",
   "metadata": {},
   "source": [
    "1. Create a List L that is defined as= [10, 20, 30, 40, 50, 60, 70, 80].\n",
    "i. WAP to add 200 and 300 to L.\n",
    "ii. WAP to remove 10 and 30 from L.\n",
    "iii. WAP to sort L in ascending order.\n",
    "iv. WAP to sort L in descending order."
   ]
  },
  {
   "cell_type": "code",
   "execution_count": 1,
   "id": "88c526c2-d3d2-48be-be53-1d54297b0c6a",
   "metadata": {},
   "outputs": [
    {
     "name": "stdout",
     "output_type": "stream",
     "text": [
      "(i) add 200 and 300:  [10, 20, 30, 40, 50, 60, 70, 80, 200, 300]\n",
      "(ii) remove 10 and 30:  [20, 40, 50, 60, 70, 80, 200, 300]\n",
      "(iii) Sort List:  [20, 40, 50, 60, 70, 80, 200, 300]\n",
      "(iv) Sorted in reverse order:  [300, 200, 80, 70, 60, 50, 40, 20]\n"
     ]
    }
   ],
   "source": [
    "L = [10,20,30,40,50,60,70,80]\n",
    "L.append(200)\n",
    "L.append(300)\n",
    "print(\"(i) add 200 and 300: \", L)\n",
    "L.remove(10)\n",
    "L.remove(30)\n",
    "print(\"(ii) remove 10 and 30: \",L)\n",
    "L.sort()\n",
    "print(\"(iii) Sort List: \",L)\n",
    "L.sort(reverse = True)\n",
    "print(\"(iv) Sorted in reverse order: \",L)"
   ]
  },
  {
   "cell_type": "markdown",
   "id": "952a9b5e-5857-4b0e-9e0d-cfddc96ad0a5",
   "metadata": {},
   "source": [
    "2. Create a tuple of marks scored as scores = (45, 89.5, 76, 45.4, 89, 92, 58, 45) and\n",
    "perform the following operations using tuple functions:\n",
    "i. Identify the highest score and its index in the tuple.\n",
    "ii. Find the lowest score and count how many times it appears.\n",
    "iii. Reverse the tuple and return it as a list.\n",
    "iv. Check if a specific score ‘76’ (input by the user) is present in the tuple and\n",
    "print its first occurrence index, or a message saying it’s not present."
   ]
  },
  {
   "cell_type": "code",
   "execution_count": 6,
   "id": "d3a84afb-5d59-42cc-8709-d0bd85b909ed",
   "metadata": {},
   "outputs": [
    {
     "name": "stdout",
     "output_type": "stream",
     "text": [
      "Maximum element in tuple:  92\n",
      "Position of maximum element:  5\n",
      "Minimum element in tuple:  45\n",
      "Count of the minimum element:  2\n",
      "[45, 58, 92, 89, 45.4, 76, 89.5, 45]\n"
     ]
    },
    {
     "name": "stdin",
     "output_type": "stream",
     "text": [
      "Enter a number:  76\n"
     ]
    },
    {
     "name": "stdout",
     "output_type": "stream",
     "text": [
      "76 is present at index. 2\n"
     ]
    }
   ],
   "source": [
    "Scores = (45,89.5,76,45.4,89,92,58,45)\n",
    "max = Scores[0]\n",
    "pos = 0\n",
    "for score in range(len(Scores)):\n",
    "    if Scores[score] > max:\n",
    "        max = Scores[score]\n",
    "        pos = score\n",
    "print(\"Maximum element in tuple: \",max)\n",
    "print(\"Position of maximum element: \",pos)\n",
    "mini = min(Scores)\n",
    "print(\"Minimum element in tuple: \",mini)\n",
    "count = Scores.count(mini)\n",
    "print(\"Count of the minimum element: \",count)\n",
    "\n",
    "scores_list=list(Scores)\n",
    "scores_list.reverse()\n",
    "print(scores_list)\n",
    "\n",
    "ni = -1\n",
    "num = int(input(\"Enter a number: \"))\n",
    "for i in range (len(Scores)):\n",
    "  if Scores[i]==num:\n",
    "    ni=i\n",
    "    break\n",
    "print(num,\"is present at index.\",ni)"
   ]
  },
  {
   "cell_type": "markdown",
   "id": "577ce4dc-8715-4eec-9ff6-a9554619fc40",
   "metadata": {},
   "source": [
    "3. WAP to create a list of 100 random numbers between 100 and 900. Count and print\n",
    "the:\n",
    "i. All odd numbers\n",
    "ii. All even numbers\n",
    "iii. All prime numbers"
   ]
  },
  {
   "cell_type": "code",
   "execution_count": 7,
   "id": "25b5fb2c-ff93-4b01-a65a-2374150ba03d",
   "metadata": {},
   "outputs": [
    {
     "name": "stdout",
     "output_type": "stream",
     "text": [
      "Total Odd Numbers: [259, 283, 755, 311, 487, 115, 873, 251, 425, 707, 563, 867, 115, 663, 639, 455, 205, 165, 821, 129, 829, 281, 197, 153, 813, 835, 395, 531, 827, 563, 247, 449, 475, 321, 595, 119, 595, 169, 649, 643, 149, 741, 315, 211, 303, 197, 867, 129, 767, 131]\n",
      "Total number of Odd Numbers: 50\n",
      "Total Even Numbers: [348, 416, 148, 820, 148, 202, 252, 628, 858, 710, 488, 834, 878, 410, 848, 344, 572, 142, 354, 670, 710, 490, 446, 762, 348, 226, 182, 616, 644, 836, 408, 410, 816, 748, 612, 756, 374, 694, 828, 166, 454, 330, 208, 322, 178, 498, 220, 256, 112, 334]\n",
      "Total number of Even Numbers: 50\n",
      "Total Prime Numbers: [283, 311, 487, 251, 563, 821, 829, 281, 197, 827, 563, 449, 643, 149, 211, 197, 131]\n",
      "Total number of Prime Numbers: 17\n"
     ]
    }
   ],
   "source": [
    "import random\n",
    "\n",
    "numbers = []\n",
    "for _ in range(100):\n",
    "    numbers.append(random.randint(100, 900))\n",
    "\n",
    "odd_numbers = []\n",
    "for num in numbers:\n",
    "    if num % 2 != 0:\n",
    "        odd_numbers.append(num)\n",
    "print(\"Total Odd Numbers:\", odd_numbers)\n",
    "print(\"Total number of Odd Numbers:\", len(odd_numbers))\n",
    "\n",
    "\n",
    "even_numbers = []\n",
    "for num in numbers:\n",
    "    if num % 2 == 0:\n",
    "        even_numbers.append(num)\n",
    "print(\"Total Even Numbers:\", even_numbers)\n",
    "print(\"Total number of Even Numbers:\", len(even_numbers))\n",
    "\n",
    "prime_numbers = []\n",
    "for num in numbers:\n",
    "    is_prime = True\n",
    "    if num > 1:\n",
    "        for i in range(2, num):\n",
    "            if num % i == 0:\n",
    "                is_prime = False\n",
    "                break\n",
    "    else:\n",
    "        is_prime = False\n",
    "    if is_prime:\n",
    "        prime_numbers.append(num)\n",
    "print(\"Total Prime Numbers:\", prime_numbers)\n",
    "print(\"Total number of Prime Numbers:\", len(prime_numbers))\n"
   ]
  },
  {
   "cell_type": "markdown",
   "id": "73dc3406-446b-4ff2-a4a3-30a80671faa9",
   "metadata": {},
   "source": [
    "4. Consider the following two sets, A and B, represenƟng scores of two teams in mulƟple\n",
    "matches. A = {34, 56, 78, 90} and B = {78, 45, 90, 23}\n",
    "WAP to perform the following operaƟons using set funcƟons:\n",
    "i. Find the unique scores achieved by both teams (union of sets).\n",
    "ii. IdenƟfy the scores that are common to both teams (intersecƟon of sets).\n",
    "iii. Find the scores that are exclusive to each team (symmetric difference).\n",
    "iv. Check if the scores of team A are a subset of team B, and if team B's scores are\n",
    "a superset of team A.\n",
    "v. Remove a specific score X (input by the user) from set A if it exists. If not, print\n",
    "a message saying it is not present."
   ]
  },
  {
   "cell_type": "code",
   "execution_count": 8,
   "id": "9fcaa92e-46d1-49c5-9075-e3553974b7a6",
   "metadata": {},
   "outputs": [
    {
     "name": "stdout",
     "output_type": "stream",
     "text": [
      "{34, 45, 78, 23, 56, 90}\n",
      "{90, 78}\n",
      "{34, 45, 23, 56}\n",
      "Team A is not subset of team B\n",
      "Team B is not superset of team A\n"
     ]
    }
   ],
   "source": [
    "A = {34, 56, 78, 90}\n",
    "B = {78, 45, 90, 23}\n",
    "union = A.union(B)\n",
    "print(union)\n",
    "\n",
    "inter = A.intersection(B)\n",
    "print(inter)\n",
    "\n",
    "symmetricdiff = A.symmetric_difference(B)\n",
    "print(symmetricdiff)\n",
    "\n",
    "if (A.issubset(B)):\n",
    "  print(\"Team A is subset of team B\")\n",
    "else:\n",
    "  print(\"Team A is not subset of team B\")\n",
    "\n",
    "\n",
    "if(B.issuperset(A)):\n",
    "    print(\"Team B is superset of team A\")\n",
    "else:\n",
    "     print(\"Team B is not superset of team A\")"
   ]
  },
  {
   "cell_type": "markdown",
   "id": "63ec0c4b-f7c6-4f0c-84c8-18c9131b0454",
   "metadata": {},
   "source": [
    "5. Write a program to rename a key city to a locaƟon in the following dicƟonary."
   ]
  },
  {
   "cell_type": "code",
   "execution_count": 9,
   "id": "35f7da59-859d-49e3-8a0b-8dfd255f594e",
   "metadata": {},
   "outputs": [
    {
     "name": "stdout",
     "output_type": "stream",
     "text": [
      "{'name': 'Kelly', 'age': 25, 'salary': 8000, 'location': 'New York'}\n"
     ]
    }
   ],
   "source": [
    "sample_dict={\"name\":\"Kelly\",\n",
    "             \"age\":25,\n",
    "             \"salary\":8000,\n",
    "             \"city\":\"New York\"}\n",
    "\n",
    "sample_dict['location'] = sample_dict.pop('city')\n",
    "print(sample_dict)"
   ]
  },
  {
   "cell_type": "code",
   "execution_count": null,
   "id": "9b3d482d-0784-4210-83ca-feb83b9a3a24",
   "metadata": {},
   "outputs": [],
   "source": []
  }
 ],
 "metadata": {
  "kernelspec": {
   "display_name": "Python 3 (ipykernel)",
   "language": "python",
   "name": "python3"
  },
  "language_info": {
   "codemirror_mode": {
    "name": "ipython",
    "version": 3
   },
   "file_extension": ".py",
   "mimetype": "text/x-python",
   "name": "python",
   "nbconvert_exporter": "python",
   "pygments_lexer": "ipython3",
   "version": "3.13.1"
  }
 },
 "nbformat": 4,
 "nbformat_minor": 5
}
