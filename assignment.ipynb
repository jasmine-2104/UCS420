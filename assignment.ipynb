{
 "cells": [
  {
   "cell_type": "code",
   "execution_count": 3,
   "id": "261901b7-a499-4d4d-9523-9b6d33394bbe",
   "metadata": {},
   "outputs": [
    {
     "name": "stdout",
     "output_type": "stream",
     "text": [
      "Jasmine Sharma\n",
      "Jasmine Sharma\n",
      "Jasmine Sharma\n"
     ]
    }
   ],
   "source": [
    "for i in range(1,4):\n",
    "    print('Jasmine Sharma')"
   ]
  },
  {
   "cell_type": "code",
   "execution_count": null,
   "id": "5050d226-f6ca-4ecb-9e20-a0ea3023754c",
   "metadata": {},
   "outputs": [],
   "source": []
  }
 ],
 "metadata": {
  "kernelspec": {
   "display_name": "Python 3 (ipykernel)",
   "language": "python",
   "name": "python3"
  },
  "language_info": {
   "codemirror_mode": {
    "name": "ipython",
    "version": 3
   },
   "file_extension": ".py",
   "mimetype": "text/x-python",
   "name": "python",
   "nbconvert_exporter": "python",
   "pygments_lexer": "ipython3",
   "version": "3.11.7"
  }
 },
 "nbformat": 4,
 "nbformat_minor": 5
}
