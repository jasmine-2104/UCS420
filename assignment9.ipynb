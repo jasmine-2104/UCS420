{
  "nbformat": 4,
  "nbformat_minor": 0,
  "metadata": {
    "colab": {
      "provenance": []
    },
    "kernelspec": {
      "name": "python3",
      "display_name": "Python 3"
    },
    "language_info": {
      "name": "python"
    }
  },
  "cells": [
    {
      "cell_type": "code",
      "execution_count": 13,
      "metadata": {
        "colab": {
          "base_uri": "https://localhost:8080/"
        },
        "id": "SxncTB7I05r_",
        "outputId": "5c6a144c-554f-4b4d-d718-47b3fe1d30e3"
      },
      "outputs": [
        {
          "output_type": "stream",
          "name": "stdout",
          "text": [
            "Word Frequency Distribution (excluding stopwords):\n",
            "[('lorem', 4), ('ipsum', 4), ('dummy', 2), ('text', 2), ('typesetting', 2), ('type', 2), ('simply', 1), ('printing', 1), ('industry', 1), ('industrys', 1)]\n",
            "\n",
            "Tokenized Words: ['lorem', 'ipsum', 'is', 'simply', 'dummy', 'text', 'of', 'the', 'printing', 'and', 'typesetting', 'industry', 'lorem', 'ipsum', 'has', 'been', 'the', 'industrys', 'standard', 'dummy', 'text', 'ever', 'since', 'the', '1500s', 'when', 'an', 'unknown', 'printer', 'took', 'a', 'galley', 'of', 'type', 'and', 'scrambled', 'it', 'to', 'make', 'a', 'type', 'specimen', 'book', 'it', 'has', 'survived', 'not', 'only', 'five', 'centuries', 'but', 'also', 'the', 'leap', 'into', 'electronic', 'typesetting', 'remaining', 'essentially', 'unchanged', 'it', 'was', 'popularised', 'in', 'the', '1960s', 'with', 'the', 'release', 'of', 'letraset', 'sheets', 'containing', 'lorem', 'ipsum', 'passages', 'and', 'more', 'recently', 'with', 'desktop', 'publishing', 'software', 'like', 'aldus', 'pagemaker', 'including', 'versions', 'of', 'lorem', 'ipsum']\n",
            "\n",
            "Tokenized Sentences: ['lorem ipsum is simply dummy text of the printing and typesetting industry\\n lorem ipsum has been the industrys standard dummy text ever since the 1500s \\n when an unknown printer took a galley of type and scrambled it to make a type specimen book\\n  it has survived not only five centuries but also the leap into electronic typesetting \\n  remaining essentially unchanged it was popularised in the 1960s with the release of letraset \\n  sheets containing lorem ipsum passages and more recently with desktop publishing software like aldus\\n   pagemaker including versions of lorem ipsum']\n",
            "\n",
            "Filtered Words (without stopwords): ['lorem', 'ipsum', 'simply', 'dummy', 'text', 'printing', 'typesetting', 'industry', 'lorem', 'ipsum', 'industrys', 'standard', 'dummy', 'text', 'ever', 'since', '1500s', 'unknown', 'printer', 'took', 'galley', 'type', 'scrambled', 'make', 'type', 'specimen', 'book', 'survived', 'five', 'centuries', 'also', 'leap', 'electronic', 'typesetting', 'remaining', 'essentially', 'unchanged', 'popularised', '1960s', 'release', 'letraset', 'sheets', 'containing', 'lorem', 'ipsum', 'passages', 'recently', 'desktop', 'publishing', 'software', 'like', 'aldus', 'pagemaker', 'including', 'versions', 'lorem', 'ipsum']\n"
          ]
        },
        {
          "output_type": "stream",
          "name": "stderr",
          "text": [
            "[nltk_data] Downloading package punkt to /root/nltk_data...\n",
            "[nltk_data]   Package punkt is already up-to-date!\n",
            "[nltk_data] Downloading package stopwords to /root/nltk_data...\n",
            "[nltk_data]   Package stopwords is already up-to-date!\n",
            "[nltk_data] Downloading package punkt_tab to /root/nltk_data...\n",
            "[nltk_data]   Package punkt_tab is already up-to-date!\n"
          ]
        }
      ],
      "source": [
        "import nltk\n",
        "import string\n",
        "from nltk.corpus import stopwords\n",
        "from nltk.tokenize import word_tokenize, sent_tokenize\n",
        "from nltk.probability import FreqDist\n",
        "\n",
        "nltk.download('punkt')\n",
        "nltk.download('stopwords')\n",
        "nltk.download('punkt_tab')\n",
        "\n",
        "text = \"\"\"Lorem Ipsum is simply dummy text of the printing and typesetting industry.\n",
        " Lorem Ipsum has been the industry's standard dummy text ever since the 1500s,\n",
        " when an unknown printer took a galley of type and scrambled it to make a type specimen book.\n",
        "  It has survived not only five centuries, but also the leap into electronic typesetting,\n",
        "  remaining essentially unchanged. It was popularised in the 1960s with the release of Letraset\n",
        "  sheets containing Lorem Ipsum passages, and more recently with desktop publishing software like Aldus\n",
        "   PageMaker including versions of Lorem Ipsum..\"\"\"\n",
        "text = text.lower()\n",
        "text = text.translate(str.maketrans('', '', string.punctuation))\n",
        "\n",
        "words = word_tokenize(text)\n",
        "sentences = sent_tokenize(text)\n",
        "\n",
        "stop_words = set(stopwords.words('english'))\n",
        "filtered_words = [word for word in words if word not in stop_words]\n",
        "\n",
        "word_freq = FreqDist(filtered_words)\n",
        "\n",
        "print(\"Word Frequency Distribution (excluding stopwords):\")\n",
        "print(word_freq.most_common(10))\n",
        "\n",
        "print(\"\\nTokenized Words:\", words)\n",
        "print(\"\\nTokenized Sentences:\", sentences)\n",
        "print(\"\\nFiltered Words (without stopwords):\", filtered_words)"
      ]
    },
    {
      "cell_type": "code",
      "source": [
        "from nltk.stem import PorterStemmer, LancasterStemmer, WordNetLemmatizer\n",
        "nltk.download('wordnet')\n",
        "\n",
        "porter = PorterStemmer()\n",
        "lancaster = LancasterStemmer()\n",
        "lemmatizer = WordNetLemmatizer()\n",
        "\n",
        "porter_stemmed = [porter.stem(word) for word in filtered_words]\n",
        "lancaster_stemmed = [lancaster.stem(word) for word in filtered_words]\n",
        "lemmatized = [lemmatizer.lemmatize(word) for word in filtered_words]\n",
        "\n",
        "print(\"\\nPorter Stemmed Words:\", porter_stemmed)\n",
        "print(\"\\nLancaster Stemmed Words:\", lancaster_stemmed)\n",
        "print(\"\\nLemmatized Words:\", lemmatized)\n",
        "\n",
        "print(\"\\nComparison of first 10 words:\")\n",
        "for i in range(min(10, len(filtered_words))):\n",
        "    print(f\"{filtered_words[i]:<15} {porter_stemmed[i]:<15} {lancaster_stemmed[i]:<15} {lemmatized[i]}\")"
      ],
      "metadata": {
        "id": "Cng2qNod_wX7"
      },
      "execution_count": null,
      "outputs": []
    },
    {
      "cell_type": "code",
      "source": [
        "import re\n",
        "\n",
        "long_words = re.findall(r'\\b\\w{6,}\\b', text)\n",
        "numbers = re.findall(r'\\d+', text)\n",
        "capitalized_words = re.findall(r'\\b[A-Z][a-z]*\\b', text)\n",
        "\n",
        "alpha_words = [word for word in words if word.isalpha()]\n",
        "vowel_start_words = [word for word in alpha_words if word[0].lower() in 'aeiou']\n",
        "\n",
        "print(\"\\nWords with more than 5 letters:\", long_words)\n",
        "print(\"\\nNumbers:\", numbers)\n",
        "print(\"\\nCapitalized words:\", capitalized_words)\n",
        "print(\"\\nWords containing only alphabets:\", alpha_words)\n",
        "print(\"\\nWords starting with a vowel:\", vowel_start_words)\n"
      ],
      "metadata": {
        "colab": {
          "base_uri": "https://localhost:8080/"
        },
        "id": "kW0Cilil651R",
        "outputId": "6215485b-6243-426c-ff95-211d1cc51b4d"
      },
      "execution_count": 14,
      "outputs": [
        {
          "output_type": "stream",
          "name": "stdout",
          "text": [
            "\n",
            "Words with more than 5 letters: ['simply', 'printing', 'typesetting', 'industry', 'industrys', 'standard', 'unknown', 'printer', 'galley', 'scrambled', 'specimen', 'survived', 'centuries', 'electronic', 'typesetting', 'remaining', 'essentially', 'unchanged', 'popularised', 'release', 'letraset', 'sheets', 'containing', 'passages', 'recently', 'desktop', 'publishing', 'software', 'pagemaker', 'including', 'versions']\n",
            "\n",
            "Numbers: ['1500', '1960']\n",
            "\n",
            "Capitalized words: []\n",
            "\n",
            "Words containing only alphabets: ['lorem', 'ipsum', 'is', 'simply', 'dummy', 'text', 'of', 'the', 'printing', 'and', 'typesetting', 'industry', 'lorem', 'ipsum', 'has', 'been', 'the', 'industrys', 'standard', 'dummy', 'text', 'ever', 'since', 'the', 'when', 'an', 'unknown', 'printer', 'took', 'a', 'galley', 'of', 'type', 'and', 'scrambled', 'it', 'to', 'make', 'a', 'type', 'specimen', 'book', 'it', 'has', 'survived', 'not', 'only', 'five', 'centuries', 'but', 'also', 'the', 'leap', 'into', 'electronic', 'typesetting', 'remaining', 'essentially', 'unchanged', 'it', 'was', 'popularised', 'in', 'the', 'with', 'the', 'release', 'of', 'letraset', 'sheets', 'containing', 'lorem', 'ipsum', 'passages', 'and', 'more', 'recently', 'with', 'desktop', 'publishing', 'software', 'like', 'aldus', 'pagemaker', 'including', 'versions', 'of', 'lorem', 'ipsum']\n",
            "\n",
            "Words starting with a vowel: ['ipsum', 'is', 'of', 'and', 'industry', 'ipsum', 'industrys', 'ever', 'an', 'unknown', 'a', 'of', 'and', 'it', 'a', 'it', 'only', 'also', 'into', 'electronic', 'essentially', 'unchanged', 'it', 'in', 'of', 'ipsum', 'and', 'aldus', 'including', 'of', 'ipsum']\n"
          ]
        }
      ]
    },
    {
      "cell_type": "code",
      "source": [
        "import re\n",
        "\n",
        "def custom_tokenize(text):\n",
        "    pattern = r\"\"\"(?x)\n",
        "        (?:[A-Z]\\.)+\n",
        "      | \\w+(?:-\\w+)*\n",
        "      | \\$?\\d+(?:\\.\\d+)?%?\n",
        "      | \\.\\.\\.\n",
        "      | [][.,;\"'?():-_`]\n",
        "    \"\"\"\n",
        "    tokens = re.findall(pattern, text)\n",
        "    return tokens\n",
        "\n",
        "text = \"\"\"Lorem Ipsum is simply dummy text of the printing and typesetting industry.\n",
        " Lorem Ipsum has been the industry's standard dummy text ever since the 1500s,\n",
        "  when an unknown printer took a galley of type and scrambled it to make a type\n",
        "  specimen book. It has survived not only five centuries, but also the leap into\n",
        "  electronic typesetting, remaining essentially unchanged. It was popularised in\n",
        "  the 1960s with the release of Letraset sheets containing Lorem Ipsum passages,\n",
        "  and more recently with desktop publishing software like Aldus PageMaker including versions of Lorem Ipsum.\"\"\"\n",
        "\n",
        "tokens = custom_tokenize(text.lower())\n",
        "tokens\n"
      ],
      "metadata": {
        "colab": {
          "base_uri": "https://localhost:8080/"
        },
        "id": "yyBL-oFS_3gT",
        "outputId": "8bd5768d-3a5e-47f4-a83e-4630dbd7c207"
      },
      "execution_count": 19,
      "outputs": [
        {
          "output_type": "execute_result",
          "data": {
            "text/plain": [
              "['lorem',\n",
              " 'ipsum',\n",
              " 'is',\n",
              " 'simply',\n",
              " 'dummy',\n",
              " 'text',\n",
              " 'of',\n",
              " 'the',\n",
              " 'printing',\n",
              " 'and',\n",
              " 'typesetting',\n",
              " 'industry',\n",
              " '.',\n",
              " 'lorem',\n",
              " 'ipsum',\n",
              " 'has',\n",
              " 'been',\n",
              " 'the',\n",
              " 'industry',\n",
              " \"'\",\n",
              " 's',\n",
              " 'standard',\n",
              " 'dummy',\n",
              " 'text',\n",
              " 'ever',\n",
              " 'since',\n",
              " 'the',\n",
              " '1500s',\n",
              " ',',\n",
              " 'when',\n",
              " 'an',\n",
              " 'unknown',\n",
              " 'printer',\n",
              " 'took',\n",
              " 'a',\n",
              " 'galley',\n",
              " 'of',\n",
              " 'type',\n",
              " 'and',\n",
              " 'scrambled',\n",
              " 'it',\n",
              " 'to',\n",
              " 'make',\n",
              " 'a',\n",
              " 'type',\n",
              " 'specimen',\n",
              " 'book',\n",
              " '.',\n",
              " 'it',\n",
              " 'has',\n",
              " 'survived',\n",
              " 'not',\n",
              " 'only',\n",
              " 'five',\n",
              " 'centuries',\n",
              " ',',\n",
              " 'but',\n",
              " 'also',\n",
              " 'the',\n",
              " 'leap',\n",
              " 'into',\n",
              " 'electronic',\n",
              " 'typesetting',\n",
              " ',',\n",
              " 'remaining',\n",
              " 'essentially',\n",
              " 'unchanged',\n",
              " '.',\n",
              " 'it',\n",
              " 'was',\n",
              " 'popularised',\n",
              " 'in',\n",
              " 'the',\n",
              " '1960s',\n",
              " 'with',\n",
              " 'the',\n",
              " 'release',\n",
              " 'of',\n",
              " 'letraset',\n",
              " 'sheets',\n",
              " 'containing',\n",
              " 'lorem',\n",
              " 'ipsum',\n",
              " 'passages',\n",
              " ',',\n",
              " 'and',\n",
              " 'more',\n",
              " 'recently',\n",
              " 'with',\n",
              " 'desktop',\n",
              " 'publishing',\n",
              " 'software',\n",
              " 'like',\n",
              " 'aldus',\n",
              " 'pagemaker',\n",
              " 'including',\n",
              " 'versions',\n",
              " 'of',\n",
              " 'lorem',\n",
              " 'ipsum',\n",
              " '.']"
            ]
          },
          "metadata": {},
          "execution_count": 19
        }
      ]
    },
    {
      "cell_type": "code",
      "source": [
        "import re\n",
        "\n",
        "email_regex = r\"[a-zA-Z0-9._%+-]+@[a-zA-Z0-9.-]+\\.[a-zA-Z]{2,}\"\n",
        "url_regex = r\"https?:\\/\\/(?:www\\.)?[-a-zA-Z0-9@:%._\\+~#=]{1,256}\\.[a-zA-Z0-9()]{1,6}\\b(?:[-a-zA-Z0-9()@:%_\\+.~#?&//=]*)\"\n",
        "phone_regex = r\"\\d{3}-\\d{3}-\\d{4}|\\+\\d{2}\\s\\d{10}\"\n",
        "\n",
        "\n",
        "text = \"\"\"ALorem Ipsum is simply dummy text of the printing and typesetting industry.\n",
        " Lorem Ipsum has been the industry's standard dummy text ever since the 1500s,\n",
        "  when an unknown printer took a galley of type and scrambled it to make a type\n",
        "  specimen book. It has survived not only five centuries, but also the leap into\n",
        "  electronic typesetting, remaining essentially unchanged. It was popularised in\n",
        "   the 1960s with the release of Letraset sheets containing Lorem Ipsum passages,\n",
        "   and more recently with desktop publishing software like Aldus PageMaker including versions of Lorem Ipsum.\"\"\"\n",
        "\n",
        "text = re.sub(email_regex, \"<21jasminesharma@gmail.com>\", text)\n",
        "\n",
        "text = re.sub(url_regex, \"<https://github.com/jasmine-2104/UCS420>\", text)\n",
        "\n",
        "text = re.sub(phone_regex, \"<+91 7814881178>\", text)\n",
        "\n",
        "text\n"
      ],
      "metadata": {
        "colab": {
          "base_uri": "https://localhost:8080/",
          "height": 86
        },
        "id": "v7Roy-k9_5Qv",
        "outputId": "4cd53726-faf5-489b-c56f-1abd3310eb85"
      },
      "execution_count": 18,
      "outputs": [
        {
          "output_type": "execute_result",
          "data": {
            "text/plain": [
              "\"ALorem Ipsum is simply dummy text of the printing and typesetting industry.\\n Lorem Ipsum has been the industry's standard dummy text ever since the 1500s,\\n  when an unknown printer took a galley of type and scrambled it to make a type \\n  specimen book. It has survived not only five centuries, but also the leap into \\n  electronic typesetting, remaining essentially unchanged. It was popularised in\\n   the 1960s with the release of Letraset sheets containing Lorem Ipsum passages, \\n   and more recently with desktop publishing software like Aldus PageMaker including versions of Lorem Ipsum.\""
            ],
            "application/vnd.google.colaboratory.intrinsic+json": {
              "type": "string"
            }
          },
          "metadata": {},
          "execution_count": 18
        }
      ]
    }
  ]
}